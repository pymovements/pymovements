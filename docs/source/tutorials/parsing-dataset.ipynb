{
 "cells": [
  {
   "cell_type": "markdown",
   "id": "0",
   "metadata": {},
   "source": [
    "# Parsing Raw Eye Tracking Files"
   ]
  },
  {
   "cell_type": "markdown",
   "id": "1",
   "metadata": {},
   "source": [
    "## What you will learn in this tutorial:\n",
    "\n",
    "* how to parse raw eye tracking files\n",
    "* how to extract experiment information using patterns\n",
    "* how to create a custom dataset definition to load a complete dataset of multiple files"
   ]
  },
  {
   "cell_type": "markdown",
   "id": "2",
   "metadata": {},
   "source": [
    "## Preparations\n",
    "\n",
    "We import `pymovements` as the alias `pm` for convenience."
   ]
  },
  {
   "cell_type": "code",
   "execution_count": null,
   "id": "3",
   "metadata": {},
   "outputs": [],
   "source": [
    "import pymovements as pm"
   ]
  },
  {
   "cell_type": "markdown",
   "id": "4",
   "metadata": {},
   "source": [
    "Let's start by downloading a toy dataset `ToyDatasetEyeLink` that contains `*.asc` files:"
   ]
  },
  {
   "cell_type": "code",
   "execution_count": null,
   "id": "5",
   "metadata": {},
   "outputs": [],
   "source": [
    "dataset = pm.Dataset(\"ToyDatasetEyeLink\", path='data/ToyDatasetEyeLink')\n",
    "dataset.download()"
   ]
  },
  {
   "cell_type": "markdown",
   "id": "6",
   "metadata": {},
   "source": [
    "This dataset includes `*.asc` files that store raw eye-tracking data along with synchronization messages. Below, we’ll inspect the files included in the dataset:"
   ]
  },
  {
   "cell_type": "code",
   "execution_count": null,
   "id": "7",
   "metadata": {},
   "outputs": [],
   "source": [
    "asc_files = list(dataset.path.glob('**/*.asc'))\n",
    "asc_files"
   ]
  },
  {
   "cell_type": "markdown",
   "id": "8",
   "metadata": {},
   "source": [
    "Let’s display the first 20 lines of one of the files to get a sense of its structure:"
   ]
  },
  {
   "cell_type": "code",
   "execution_count": null,
   "id": "9",
   "metadata": {},
   "outputs": [],
   "source": [
    "!head -n 20 data/ToyDatasetEyeLink/raw/aeye-lab-pymovements-toy-dataset-eyelink-a970d09/raw/subject_1_session_1.asc"
   ]
  },
  {
   "cell_type": "markdown",
   "id": "10",
   "metadata": {},
   "source": [
    "We can see that this file is a converted version of an `*.edf` file created by EyeLink.\n",
    "\n",
    "Let’s try loading one of these files directly using `pm.gaze.io.from_asc`:"
   ]
  },
  {
   "cell_type": "code",
   "execution_count": null,
   "id": "11",
   "metadata": {},
   "outputs": [],
   "source": [
    "gaze = pm.gaze.io.from_asc(file=asc_files[0])\n",
    "gaze"
   ]
  },
  {
   "cell_type": "markdown",
   "id": "12",
   "metadata": {},
   "source": [
    "This function automatically loads the raw eye-tracking data and attempts to infer the experimental settings used.\n",
    "\n",
    "Let’s inspect a few rows from the resulting `GazeDataFrame`:"
   ]
  },
  {
   "cell_type": "code",
   "execution_count": null,
   "id": "13",
   "metadata": {},
   "outputs": [],
   "source": [
    "gaze.frame"
   ]
  },
  {
   "cell_type": "markdown",
   "id": "14",
   "metadata": {},
   "source": [
    "We can see that timestamps (column time), pupil diameter (column pupil), and raw pixel coordinates (column pixel) are extracted automatically.\n",
    "\n",
    "Let’s now take a look at the experimental metadata that was retrieved:"
   ]
  },
  {
   "cell_type": "code",
   "execution_count": null,
   "id": "15",
   "metadata": {},
   "outputs": [],
   "source": [
    "gaze.experiment"
   ]
  },
  {
   "cell_type": "markdown",
   "id": "16",
   "metadata": {},
   "source": [
    "All relevant experimental metadata have been successfully extracted, such as the eye tracker model and the screen resolution used during recording."
   ]
  },
  {
   "cell_type": "markdown",
   "id": "17",
   "metadata": {},
   "source": [
    "### Defining Custom Patterns for Data Extraction\n",
    "\n",
    "Now let’s define our own patterns to extract additional information from the `*.asc` files.\n",
    "We can do this using the parameter `patterns` using `pm.gaze.io.from_asc`.\n",
    "\n",
    "`patterns` accepts either a list of custom patterns to match additional columns or a key identifying predefined, eye-tracker-specific patterns.\n",
    "\n",
    "Let’s define a set of custom patterns to extract more information from parsed messages and show the resulting `GazeDataFrame`:"
   ]
  },
  {
   "cell_type": "code",
   "execution_count": null,
   "id": "18",
   "metadata": {},
   "outputs": [],
   "source": [
    "patterns = [\n",
    "    {\n",
    "        'pattern': 'SYNCTIME_READING_SCREEN',\n",
    "        'column': 'task',\n",
    "        'value': 'reading',\n",
    "    },\n",
    "    {\n",
    "        'pattern': 'SYNCTIME_JUDO',\n",
    "        'column': 'task',\n",
    "        'value': 'judo',\n",
    "    },\n",
    "    r'TRIALID (?P<trial_id>\\d+)',\n",
    "]\n",
    "\n",
    "gaze = pm.gaze.io.from_asc(file=asc_files[0],\n",
    "                           patterns=patterns)\n",
    "gaze.frame"
   ]
  },
  {
   "cell_type": "markdown",
   "id": "19",
   "metadata": {},
   "source": [
    "We can see that the information for `task` and `trial_id` has been added.\n",
    "\n",
    "The `trial_id` was extracted from messages such as `MSG 2762689 TRIALID 0`, while the task value was obtained from messages like `MSG 2814942 SYNCTIME_JUDO`."
   ]
  },
  {
   "cell_type": "markdown",
   "id": "20",
   "metadata": {},
   "source": [
    "### Creating a Custom Dataset with Defined Patterns\n",
    "Let’s create a custom dataset definition to load all `*.asc` files, including the patterns we defined earlier.\n",
    "First, we need to define the experiment:"
   ]
  },
  {
   "cell_type": "code",
   "execution_count": null,
   "id": "21",
   "metadata": {},
   "outputs": [],
   "source": [
    "experiment = pm.gaze.Experiment(\n",
    "    screen_width_px=1280,\n",
    "    screen_height_px=1024,\n",
    "    screen_width_cm=38,\n",
    "    screen_height_cm=30.2,\n",
    "    distance_cm=68,\n",
    "    origin='lower left',\n",
    "    sampling_rate=1000,\n",
    ")"
   ]
  },
  {
   "cell_type": "markdown",
   "id": "22",
   "metadata": {},
   "source": [
    "Next, we define the filename format, which also encodes subject and session information:"
   ]
  },
  {
   "cell_type": "code",
   "execution_count": null,
   "id": "23",
   "metadata": {},
   "outputs": [],
   "source": [
    "filename_format = r'subject_{subject_id:d}_session_{session_id:d}.asc'"
   ]
  },
  {
   "cell_type": "markdown",
   "id": "24",
   "metadata": {},
   "source": [
    "We also specify the data types for the information extracted from the filename:"
   ]
  },
  {
   "cell_type": "code",
   "execution_count": null,
   "id": "25",
   "metadata": {},
   "outputs": [],
   "source": [
    "filename_format_dtypes = {\n",
    "    'subject_id': int,\n",
    "    'session_id': int,\n",
    "}"
   ]
  },
  {
   "cell_type": "markdown",
   "id": "26",
   "metadata": {},
   "source": [
    "We use the patterns defined above, stored in the `custom_read_kwargs` variable, when creating the dataset definition:"
   ]
  },
  {
   "cell_type": "code",
   "execution_count": null,
   "id": "27",
   "metadata": {},
   "outputs": [],
   "source": [
    "custom_read_kwargs = {\n",
    "    'patterns': patterns,\n",
    "    'schema': {'trial_id': int,\n",
    "               }\n",
    "}\n",
    "\n",
    "dataset_definition = pm.DatasetDefinition(\n",
    "    name='ToyDatasetRaw',\n",
    "    experiment=experiment,\n",
    "    filename_format={'gaze': filename_format},\n",
    "    filename_format_schema_overrides={'gaze': filename_format_dtypes},\n",
    "    custom_read_kwargs={'gaze': custom_read_kwargs},\n",
    "    has_files={'gaze': True,\n",
    "               'precomputed_events': False,\n",
    "               'precomputed_reading_measures': False,\n",
    "               }\n",
    ")"
   ]
  },
  {
   "cell_type": "markdown",
   "id": "28",
   "metadata": {},
   "source": [
    "Let’s create a dataset and load the data using the dataset definition we just set up:"
   ]
  },
  {
   "cell_type": "code",
   "execution_count": null,
   "id": "29",
   "metadata": {},
   "outputs": [],
   "source": [
    "dataset = pm.Dataset(\n",
    "    definition=dataset_definition,\n",
    "    path='data/ToyDatasetEyeLink',\n",
    ")\n",
    "dataset.load()"
   ]
  },
  {
   "cell_type": "markdown",
   "id": "30",
   "metadata": {},
   "source": [
    "Let’s inspect the first `GazeDataFrame` in this dataset:"
   ]
  },
  {
   "cell_type": "code",
   "execution_count": null,
   "id": "31",
   "metadata": {},
   "outputs": [],
   "source": [
    "dataset.gaze[0].frame"
   ]
  },
  {
   "cell_type": "markdown",
   "id": "32",
   "metadata": {},
   "source": [
    "## What you have learned in this tutorial:\n",
    "\n",
    "* how to handle `*.asc` files\n",
    "* how to create a custom dataset loading all files and parsing custom messages\n",
    "* how to load the dataset into your working memory"
   ]
  }
 ],
 "metadata": {},
 "nbformat": 4,
 "nbformat_minor": 5
}
