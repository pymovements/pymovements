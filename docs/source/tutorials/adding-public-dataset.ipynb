{
 "cells": [
  {
   "cell_type": "markdown",
   "id": "0",
   "metadata": {},
   "source": [
    "# Adding a Public Dataset to the Library"
   ]
  },
  {
   "cell_type": "markdown",
   "id": "1",
   "metadata": {},
   "source": [
    "## What you will learn in this tutorial:\n",
    "\n",
    "- how to add a new dataset to pymovements dataset library, so that it can be accessed easily\n",
    "- how to test if the dataset integration works properly\n",
    "\n",
    "**This tutorial is offered on three levels. Pick the one that corresponds to your prior knowledge:**\n",
    "\n",
    "- **[Basic](#basic):** You have never used pymovements before and don't have any programming experience  \n",
    "  → You will learn how to create an issue that will allow pymovement maintainers to add your dataset\n",
    "\n",
    "- **[Intermediate](#intermediate):** You have some experience with programming, but are not familiar with Git  \n",
    "  → You will learn how to create a pull request with a draft of your dataset definition file\n",
    "\n",
    "- **[Advanced](#advanced):** You are proficient in Python and familiar with Git  \n",
    "  → You will learn how to add and test your dataset definition on your local machine"
   ]
  },
  {
   "cell_type": "markdown",
   "id": "2",
   "metadata": {},
   "source": [
    "## Prerequisites: hosting your dataset\n",
    "\n",
    "**pymovements does not _host_ datasets**, it only provides an interface for downloading and reading them. Therefore, you will need to upload your dataset somewhere, such that pymovements will be able to download it.\n",
    "\n",
    "- Your data must be openly available and downloadable from a simple link without requiring additional steps like logging in. We recommend [OSF](https://osf.io/) for hosting your files, but other platforms like Zenodo or GitHub will also work.\n",
    "- Your data must be stored in one of the supported formats: CSV, ASC (EyeLink), IPC/Feather.\n",
    "- Your dataset may consist of multiple files, including ZIP files containing nested folders.\n",
    "- Trial information (e.g., trial or participant IDs) may be stored as additional columns in the data files, in the filenames, or as messages in ASC files."
   ]
  },
  {
   "cell_type": "markdown",
   "id": "3",
   "metadata": {},
   "source": [
    "## Basic\n",
    "\n",
    "In order to add your dataset, we will need some information on where and in what format you stored your data, as well as some metadata about your data collection. Specifically, we need:\n",
    "\n",
    "- [ ] Links to your data files (containing sample-based data, event-based data, and/or aggregated measures)\n",
    "- [ ] Information on where/how participant IDs, trial IDs, and related data are stored (within the data files, or in the filename)\n",
    "- [ ] Information on the screen you used to present the stimuli:\n",
    "  - [ ] Screen size in centimeters\n",
    "  - [ ] Screen resolution in pixels\n",
    "  - [ ] Eye-to-screen distance\n",
    "- [ ] Information on the eye-tracker you used:\n",
    "  - [ ] Model and manufacturer\n",
    "  - [ ] Sampling rate\n",
    "  - [ ] Where the origin (0, 0) of the gaze coordinates recorded by the eye-tracker is (e.g., top left of screen, center of screen)\n",
    "- [ ] Any paper(s) you would like to be referenced by users of your dataset\n",
    "\n",
    "Once you have all the information, you can [create an issue in the pymovements repository on GitHub](https://github.com/pymovements/pymovements/issues/new?template=DATASET.md). You need a GitHub account to do this. If you prefer not creating a GitHub account, please send the information above to pymovements@python.org instead.\n",
    "\n",
    "After receiving your information, we will start working to include your dataset. It is likely that we will need some additional information from you, so please keep an eye on the GitHub issue. Once the inclusion is completed, your dataset will be included in the next release of pymovements. This process may take several weeks."
   ]
  },
  {
   "cell_type": "markdown",
   "id": "4",
   "metadata": {},
   "source": [
    "## Intermediate\n",
    "\n",
    "To add a new dataset to the library, you will need to create a _dataset definition_. This is a text file in the YAML format that contains information about where your dataset is hosted, what format it is stored in, how it was collected, and other metadata. You can find some examples of YAML files for existing datasets [here](https://github.com/pymovements/pymovements/tree/main/src/pymovements/datasets).\n",
    "\n",
    "You will need to draft a new YAML file and create a pull request on GitHub. This requires a GitHub account. You can use this link to create a new file directly in your browser: [**NEW YAML FILE**](https://github.com/pymovements/pymovements/new/main/src/pymovements/datasets?filename=my_dataset.yaml&value=name%3A%20MyDataset%0A%0Along_name%3A%20%22Long%20name%20of%20my%20dataset%22%0A%0Aresources%3A%0A%20%20-%20content%3A%20gaze%0A%20%20%20%20url%3A%20%22https%3A%2F%2Furl.to%2Fdata%2Ffile%2Fgaze.csv%22%0A%20%20%20%20filename%3A%20%22gaze.csv%22%0A%20%20%20%20md5%3A%20%22%3Chash%20of%20file%20content%3E%22%0A%0Aexperiment%3A%0A%20%20-%20screen_width_px%3A%201920%0A%20%20-%20screen_height_px%3A%201080%0A%20%20-%20screen_width_cm%3A%2050%0A%20%20-%20screen_height_cm%3A%2028%0A%20%20-%20distance_cm%3A%2060%0A%20%20-%20origin%3A%20%22upper%20left%22%0A%20%20-%20sampling_rate%3A%201000)\n",
    "\n",
    "The most important fields are `name`, `long_name`, `resources`, which contains the links to the data files, and `experiment`, which contains metadata about the physical setup and the eye tracker:\n",
    "\n",
    "```yaml\n",
    "name: MyDataset\n",
    "\n",
    "long_name: \"Long name of my dataset\"\n",
    "\n",
    "resources:\n",
    "  - content: gaze\n",
    "    url: \"https://url.to/data/file/gaze.csv\"\n",
    "    filename: \"gaze.csv\"\n",
    "    md5: \"<MD5 hash of file content>\"\n",
    "\n",
    "experiment:\n",
    "  - screen_width_px: 1920\n",
    "  - screen_height_px: 1080\n",
    "  - screen_width_cm: 50\n",
    "  - screen_height_cm: 28\n",
    "  - distance_cm: 60\n",
    "  - origin: \"upper left\"\n",
    "  - sampling_rate: 1000\n",
    "```\n",
    "\n",
    "Detailed documentation on the different fields can be found [here](https://pymovements.readthedocs.io/en/stable/reference/api/pymovements.DatasetDefinition.html).\n",
    "\n",
    "After adding your information in the file, click \"Commit changes\" to create a pull request. Feel free to create a pull request even if the file is still missing some information. You (or pymovements maintainers) will still be able to edit it later. If you are unsure about something, just add a comment on the pull request and we will help you.\n",
    "\n",
    "Once the pull request is created, we will start working to include your dataset. It is likely that we will need some additional information from you, so please keep an eye on the pull request. Once the pull request is completed and merged, your dataset will be included in the next release of pymovements. This process may take several weeks."
   ]
  },
  {
   "cell_type": "markdown",
   "id": "5",
   "metadata": {},
   "source": [
    "## Advanced\n",
    "\n",
    "Follow the [contributing guide](https://github.com/pymovements/pymovements/blob/main/CONTRIBUTING.md) to set up your development environment.\n",
    "\n",
    "We recommend setting up and testing your dataset locally first. Please refer to the [corresponding tutorial](https://pymovements.readthedocs.io/en/stable/tutorials/local-dataset.html)."
   ]
  }
 ],
 "metadata": {},
 "nbformat": 4,
 "nbformat_minor": 5
}
