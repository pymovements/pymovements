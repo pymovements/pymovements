{
 "cells": [
  {
   "cell_type": "markdown",
   "id": "0",
   "metadata": {},
   "source": [
    "# Plotting with *PyMovements*"
   ]
  },
  {
   "cell_type": "markdown",
   "id": "1",
   "metadata": {},
   "source": [
    "*PyMovements* provides a collection of built-in plotting functions \n",
    "to visualize gaze data in both temporal and spatial dimensions.\n",
    "\n",
    "These functions make it easy to explore and present your data, \n",
    "from individual trial visualizations to aggregated participant-level analyses.\n",
    "\n",
    "In this tutorial, you’ll learn how to:\n",
    "\n",
    "- load and prepare a sample dataset for plotting\n",
    "- compute the necessary properties\n",
    "- Plot gaze traces over time (traceplot)\n",
    "- Visualize fixations and saccades on a stimulus (scanpathplot)\n",
    "- Generate heatmaps showing gaze density (heatmap)\n",
    "- Plot the saccadic main sequence (main-sequence)\n",
    "- style the plot\n",
    "\n",
    "All examples use the small and reproducible :doc:`ToyDataset <../../datasets/ToyDataset>` \n",
    "that comes with PyMovements."
   ]
  },
  {
   "cell_type": "markdown",
   "id": "2",
   "metadata": {},
   "source": [
    "## Loading and preprocessing data"
   ]
  },
  {
   "cell_type": "code",
   "execution_count": null,
   "id": "3",
   "metadata": {},
   "outputs": [],
   "source": [
    "import pymovements as pm\n",
    "\n",
    "dataset = pm.Dataset('ToyDataset', path='data/ToyDataset')\n",
    "dataset.download()\n",
    "dataset.load()\n",
    "\n",
    "# convert the raw x and y coordinates in pixels to degrees in visual angle\n",
    "dataset.pix2deg()\n",
    "\n",
    "# convert these positions into velocitites\n",
    "dataset.pos2vel()"
   ]
  },
  {
   "cell_type": "markdown",
   "id": "4",
   "metadata": {},
   "source": [
    "Check if all the expected columns are in place"
   ]
  },
  {
   "cell_type": "code",
   "execution_count": null,
   "id": "5",
   "metadata": {},
   "outputs": [],
   "source": [
    "#  You should see the following columns: time, stimuli_x, stimuli_y, text_id\n",
    "#  page_id, pixel, position, velocity\n",
    "dataset.gaze[0]"
   ]
  },
  {
   "cell_type": "markdown",
   "id": "6",
   "metadata": {},
   "source": [
    "## Detecting events and computing properties"
   ]
  },
  {
   "cell_type": "code",
   "execution_count": null,
   "id": "7",
   "metadata": {},
   "outputs": [],
   "source": [
    "# detect saccades\n",
    "dataset.detect_events('microsaccades')\n",
    "# compute amplitude and peak velocity of the detected saccades\n",
    "dataset.compute_event_properties(['amplitude', 'peak_velocity'])"
   ]
  },
  {
   "cell_type": "markdown",
   "id": "8",
   "metadata": {},
   "source": [
    "Verify that the desired columns are available"
   ]
  },
  {
   "cell_type": "code",
   "execution_count": null,
   "id": "9",
   "metadata": {},
   "outputs": [],
   "source": [
    "#  the DataFrame with detected events should now contain the following columns:\n",
    "#  text_id, page_id, name, onset, offset, duration, amplitude, peak_velocity\n",
    "dataset.events[0]"
   ]
  },
  {
   "cell_type": "markdown",
   "id": "10",
   "metadata": {},
   "source": [
    "## Plotting the Saccadic Main Sequence"
   ]
  },
  {
   "cell_type": "markdown",
   "id": "11",
   "metadata": {},
   "source": [
    "Now we just pass the event dataframe to the plotting function:"
   ]
  },
  {
   "cell_type": "code",
   "execution_count": null,
   "id": "12",
   "metadata": {},
   "outputs": [],
   "source": [
    "# only showing the first three event dataframes here.\n",
    "# note that you can adjust the styling of the plot, e.g. setting a low\n",
    "# alpha value allows you to see overlapping data points\n",
    "for event_df in dataset.events[:3]:\n",
    "    pm.plotting.main_sequence_plot(\n",
    "        event_df,\n",
    "        title='Main sequence plot for '\n",
    "        f'text {event_df[0, \"text_id\"]}, '\n",
    "        f'page {event_df[0, \"page_id\"]}',\n",
    "        alpha=0.3,\n",
    "        color='green',\n",
    "        marker='x',\n",
    "        marker_size=30,\n",
    "    )"
   ]
  },
  {
   "cell_type": "markdown",
   "id": "13",
   "metadata": {},
   "source": [
    "## Making the Traceplot"
   ]
  },
  {
   "cell_type": "markdown",
   "id": "14",
   "metadata": {},
   "source": [
    "A traceplot displays the continuous horizontal and vertical gaze coordinates of one or more trials, allowing you to inspect temporal dynamics such as fixations, saccades, and blinks.\n",
    "\n",
    "Traceplots are useful for:\n",
    "- Verifying that gaze data have been parsed and aligned correctly.\n",
    "- Exploring viewing behavior across conditions or participants.\n",
    "- Identifying artifacts or data quality issues.\n",
    "\n",
    "A basic traceplot can be created with only a `Gaze` object:"
   ]
  },
  {
   "cell_type": "code",
   "execution_count": null,
   "id": "15",
   "metadata": {},
   "outputs": [],
   "source": [
    "pm.plotting.traceplot(dataset.gaze[0])"
   ]
  },
  {
   "cell_type": "markdown",
   "id": "16",
   "metadata": {},
   "source": [
    "## Creating the Scanpath Plot"
   ]
  },
  {
   "cell_type": "markdown",
   "id": "17",
   "metadata": {},
   "source": [
    "This scanpath plot visualizes fixations and saccades on a stimulus using\n",
    "`pymovements.plotting.scanpathplot()`."
   ]
  },
  {
   "cell_type": "code",
   "execution_count": null,
   "id": "18",
   "metadata": {},
   "outputs": [],
   "source": [
    "pm.plotting.scanpathplot(dataset.gaze[0])"
   ]
  },
  {
   "cell_type": "markdown",
   "id": "19",
   "metadata": {},
   "source": [
    "## Heatmap Plotting"
   ]
  },
  {
   "cell_type": "markdown",
   "id": "20",
   "metadata": {},
   "source": [
    "The heatmap shows the distribution of gaze positions across the experiment screen, with color values indicating the time spent at each position in seconds.\n",
    "\n",
    "Let's create a heatmap using the `heatmap` function from the `pymovements` library. We will use the default `gridsize` of 10x10 with interpolation and display the colorbar.\n",
    "\n",
    "To better understand the effect of the `gridsize` parameter on the heatmap, we can turn off the interpolation. By doing this, we can clearly visualize the individual bins used to calculate the heatmap. With interpolation turned off, the heatmap will display the raw bin values rather than a smoothed representation."
   ]
  },
  {
   "cell_type": "code",
   "execution_count": null,
   "id": "21",
   "metadata": {},
   "outputs": [],
   "source": [
    "figure = pm.plotting.heatmap(\n",
    "    gaze=dataset.gaze[5],\n",
    "    position_column='pixel',\n",
    "    origin='upper',\n",
    "    show_cbar=True,\n",
    "    cbar_label='Time [s]',\n",
    "    title='Gaze Heatmap with Interpolation On',\n",
    "    xlabel='X [pix]',\n",
    "    ylabel='Y [pix]',\n",
    "    gridsize=[10, 10]\n",
    ")"
   ]
  },
  {
   "cell_type": "markdown",
   "id": "22",
   "metadata": {},
   "source": [
    "Increasing the `gridsize` parameter results in a finer grid and more detailed heatmap representation. With a higher grid size, we divide the plot into smaller bins, which can capture more nuances in the data distribution"
   ]
  },
  {
   "cell_type": "code",
   "execution_count": null,
   "id": "23",
   "metadata": {},
   "outputs": [],
   "source": [
    "figure = pm.plotting.heatmap(\n",
    "    dataset.gaze[5],\n",
    "    position_column='pixel',\n",
    "    origin='upper',\n",
    "    show_cbar=True,\n",
    "    cbar_label='Time [s]',\n",
    "    title='Gaze Heatmap with Higher Grid Size',\n",
    "    xlabel='X [pix]',\n",
    "    ylabel='Y [pix]',\n",
    "    gridsize=[25, 25]\n",
    ")"
   ]
  },
  {
   "cell_type": "code",
   "execution_count": null,
   "id": "24",
   "metadata": {},
   "outputs": [],
   "source": [
    "pm.plotting.heatmap(dataset.gaze[2])"
   ]
  }
 ],
 "metadata": {},
 "nbformat": 4,
 "nbformat_minor": 5
}
