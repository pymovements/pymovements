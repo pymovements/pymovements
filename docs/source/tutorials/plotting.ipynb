{
 "cells": [
  {
   "cell_type": "markdown",
   "id": "0",
   "metadata": {},
   "source": [
    "# Plotting with *pymovements*"
   ]
  },
  {
   "cell_type": "markdown",
   "id": "1",
   "metadata": {},
   "source": [
    "*Pymovements* provides a collection of built-in plotting functions \n",
    "to visualize gaze data in both temporal and spatial dimensions.\n",
    "\n",
    "These functions make it easy to explore and present your data, \n",
    "from individual trial visualizations to aggregated participant-level analyses.\n",
    "\n",
    "In this tutorial, you’ll learn how to:\n",
    "\n",
    "- load and prepare a sample dataset for plotting\n",
    "- compute the necessary properties\n",
    "- plot gaze traces over time (traceplot)\n",
    "- visualize fixations and saccades on a stimulus (scanpathplot)\n",
    "- generate heatmaps showing gaze density (heatmap)\n",
    "- plot the saccadic main sequence (main-sequence)\n",
    "- style the plot\n",
    "\n",
    "All examples use the small and reproducible {doc}`ToyDataset <../datasets/ToyDataset>` \n",
    "that comes with PyMovements."
   ]
  },
  {
   "cell_type": "markdown",
   "id": "2",
   "metadata": {},
   "source": [
    "## Loading and preprocessing data"
   ]
  },
  {
   "cell_type": "code",
   "execution_count": null,
   "id": "3",
   "metadata": {},
   "outputs": [],
   "source": [
    "import pymovements as pm\n",
    "\n",
    "dataset = pm.Dataset('ToyDataset', path='data/ToyDataset')\n",
    "dataset.download()\n",
    "dataset.load()\n",
    "\n",
    "# convert the raw x and y coordinates in pixels to degrees in visual angle\n",
    "dataset.pix2deg()\n",
    "\n",
    "# convert these positions into velocitites\n",
    "dataset.pos2vel()"
   ]
  },
  {
   "cell_type": "markdown",
   "id": "4",
   "metadata": {},
   "source": [
    "Check if all the expected columns are in place"
   ]
  },
  {
   "cell_type": "code",
   "execution_count": null,
   "id": "5",
   "metadata": {},
   "outputs": [],
   "source": [
    "#  You should see the following columns in gaze.samples:\n",
    "#  time, stimuli_x, stimuli_y,text_id, page_id, pixel, position, velocity\n",
    "dataset.gaze[0]"
   ]
  },
  {
   "cell_type": "markdown",
   "id": "6",
   "metadata": {},
   "source": [
    "## Detecting events and computing properties"
   ]
  },
  {
   "cell_type": "markdown",
   "id": "7",
   "metadata": {},
   "source": [
    "Eye-tracking is are typically segmented into fixations and saccades. Fixations represent moments when the eyes remain relatively still, allowing visual information to be processed, while saccades are the rapid movements between fixations that reposition the gaze. Detecting these events and computing their properties, such as fixation duration, saccade amplitude, and peak velocity, provides the foundation for analyzing visual behavior and understanding how participants explore a stimulus."
   ]
  },
  {
   "cell_type": "markdown",
   "id": "8",
   "metadata": {},
   "source": [
    "### Saccades"
   ]
  },
  {
   "cell_type": "code",
   "execution_count": null,
   "id": "9",
   "metadata": {},
   "outputs": [],
   "source": [
    "# detect saccades\n",
    "dataset.detect_events('microsaccades')\n",
    "# compute amplitude and peak velocity of the detected saccades\n",
    "dataset.compute_event_properties(['amplitude', 'peak_velocity'])\n",
    "\n",
    "#  the DataFrame with detected events should now contain the following columns:\n",
    "#  text_id, page_id, name, onset, offset, duration, amplitude, peak_velocity\n",
    "dataset.events[0]"
   ]
  },
  {
   "cell_type": "markdown",
   "id": "10",
   "metadata": {},
   "source": [
    "### Fixations"
   ]
  },
  {
   "cell_type": "code",
   "execution_count": null,
   "id": "11",
   "metadata": {},
   "outputs": [],
   "source": [
    "# detect fixations using the I-DT algorithm\n",
    "dataset.detect('idt', minimum_duration=100, dispersion_threshold=1.0)\n",
    "# compute event properties, such as the mean position of each fixation\n",
    "dataset.compute_event_properties((\"location\", {\"position_column\": \"pixel\"}))\n",
    "\n",
    "#  the DataFrame with detected events should now contain the following columns:\n",
    "#  text_id, page_id, name, onset, offset, duration, amplitude, peak_velocity, location\n",
    "dataset.events[0]"
   ]
  },
  {
   "cell_type": "markdown",
   "id": "12",
   "metadata": {},
   "source": [
    "## Making the Traceplot"
   ]
  },
  {
   "cell_type": "markdown",
   "id": "13",
   "metadata": {},
   "source": [
    "A traceplot visualizes the gaze path over time, showing the sequence of fixations and saccades across a stimulus. It represents eye movements as a continuous trajectory connecting gaze points, where each point corresponds to a specific position and moment in time. This helps reveal viewing patterns — where a person looks, for how long, and in what order.\n",
    "\n",
    "Traceplots are useful for:\n",
    "- Verifying that gaze data have been parsed and aligned correctly.\n",
    "- Exploring viewing behavior across conditions or participants.\n",
    "- Identifying artifacts or data quality issues.\n",
    "\n",
    "A basic traceplot can be created with only a `Gaze` object:"
   ]
  },
  {
   "cell_type": "code",
   "execution_count": null,
   "id": "14",
   "metadata": {},
   "outputs": [],
   "source": [
    "pm.plotting.traceplot(dataset.gaze[3])"
   ]
  },
  {
   "cell_type": "markdown",
   "id": "15",
   "metadata": {},
   "source": [
    "## Creating the Scanpath Plot"
   ]
  },
  {
   "cell_type": "markdown",
   "id": "16",
   "metadata": {},
   "source": [
    "A scanpath plot illustrates the sequence of eye movements while viewing a stimulus, depicting the order of fixations and saccades. Fixations are shown as circles whose sizes reflect their duration, while lines connect them to trace the gaze path."
   ]
  },
  {
   "cell_type": "code",
   "execution_count": null,
   "id": "17",
   "metadata": {},
   "outputs": [],
   "source": [
    "pm.plotting.scanpathplot(dataset.gaze[3])"
   ]
  },
  {
   "cell_type": "code",
   "execution_count": null,
   "id": "18",
   "metadata": {},
   "outputs": [],
   "source": [
    "pm.plotting.scanpathplot(dataset.gaze[3], add_traceplot=True)"
   ]
  },
  {
   "cell_type": "markdown",
   "id": "19",
   "metadata": {},
   "source": [
    "## Heatmap Plotting"
   ]
  },
  {
   "cell_type": "markdown",
   "id": "20",
   "metadata": {},
   "source": [
    "The heatmap shows the distribution of gaze positions across the experiment screen, with color values indicating the time spent at each position in seconds.\n",
    "\n",
    "Let's create a heatmap using the `heatmap` function from the `pymovements` library. We will use the default `gridsize` of 10x10 with interpolation and display the colorbar."
   ]
  },
  {
   "cell_type": "code",
   "execution_count": null,
   "id": "21",
   "metadata": {},
   "outputs": [],
   "source": [
    "pm.plotting.heatmap(dataset.gaze[3])"
   ]
  },
  {
   "cell_type": "code",
   "execution_count": null,
   "id": "22",
   "metadata": {},
   "outputs": [],
   "source": [
    "# you can customize various aspects of the heatmap plot, such as the grid\n",
    "# size, color map, and labels.\n",
    "\n",
    "figure = pm.plotting.heatmap(\n",
    "    gaze=dataset.gaze[5],\n",
    "    position_column='pixel',\n",
    "    origin='upper',\n",
    "    show_cbar=True,\n",
    "    cbar_label='Time [s]',\n",
    "    title='Gaze Heatmap with Interpolation On',\n",
    "    xlabel='X [pix]',\n",
    "    ylabel='Y [pix]',\n",
    "    gridsize=[10, 10],\n",
    ")"
   ]
  },
  {
   "cell_type": "markdown",
   "id": "23",
   "metadata": {},
   "source": [
    "To better understand the effect of the `gridsize` parameter on the heatmap, we can turn off the interpolation. By doing this, we can clearly visualize the individual bins used to calculate the heatmap. With interpolation turned off, the heatmap will display the raw bin values rather than a smoothed representation."
   ]
  },
  {
   "cell_type": "code",
   "execution_count": null,
   "id": "24",
   "metadata": {},
   "outputs": [],
   "source": [
    "figure = pm.plotting.heatmap(\n",
    "    dataset.gaze[5],\n",
    "    position_column='pixel',\n",
    "    origin='upper',\n",
    "    show_cbar=True,\n",
    "    cbar_label='Time [s]',\n",
    "    title='Gaze Heatmap with Interpolation Off',\n",
    "    xlabel='X [pix]',\n",
    "    ylabel='Y [pix]',\n",
    "    gridsize=[10, 10],\n",
    "    interpolation='none'\n",
    ")"
   ]
  },
  {
   "cell_type": "markdown",
   "id": "25",
   "metadata": {},
   "source": [
    "Increasing the `gridsize` parameter results in a finer grid and more detailed heatmap representation. With a higher grid size, we divide the plot into smaller bins, which can capture more nuances in the data distribution"
   ]
  },
  {
   "cell_type": "code",
   "execution_count": null,
   "id": "26",
   "metadata": {},
   "outputs": [],
   "source": [
    "figure = pm.plotting.heatmap(\n",
    "    dataset.gaze[5],\n",
    "    position_column='pixel',\n",
    "    origin='upper',\n",
    "    show_cbar=True,\n",
    "    cbar_label='Time [s]',\n",
    "    title='Gaze Heatmap with Higher Grid Size',\n",
    "    xlabel='X [pix]',\n",
    "    ylabel='Y [pix]',\n",
    "    gridsize=[25, 25]\n",
    ")"
   ]
  },
  {
   "cell_type": "markdown",
   "id": "27",
   "metadata": {},
   "source": [
    "## Plotting the Saccadic Main Sequence"
   ]
  },
  {
   "cell_type": "markdown",
   "id": "28",
   "metadata": {},
   "source": [
    "Pass the event dataframe to the plotting function"
   ]
  },
  {
   "cell_type": "code",
   "execution_count": null,
   "id": "29",
   "metadata": {},
   "outputs": [],
   "source": [
    "# show the first three event dataframes.\n",
    "# note that you can adjust the styling of the plot, e.g. setting a low\n",
    "# alpha value allows you to see overlapping data points\n",
    "for event_df in dataset.events[:3]:\n",
    "    pm.plotting.main_sequence_plot(\n",
    "        event_df,\n",
    "        title='Main sequence plot for '\n",
    "        f'text {event_df[0, \"text_id\"]}, '\n",
    "        f'page {event_df[0, \"page_id\"]}',\n",
    "        alpha=0.5,\n",
    "        color='green',\n",
    "        marker='x',\n",
    "        marker_size=30,\n",
    "    )"
   ]
  }
 ],
 "metadata": {},
 "nbformat": 4,
 "nbformat_minor": 5
}
